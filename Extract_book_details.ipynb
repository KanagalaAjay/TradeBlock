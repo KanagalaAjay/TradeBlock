{
 "cells": [
  {
   "cell_type": "code",
   "execution_count": 1,
   "id": "5445cae3-78f8-4587-b1b1-bdf58ecaf6cb",
   "metadata": {},
   "outputs": [],
   "source": [
    "import requests\n",
    "from bs4 import BeautifulSoup\n",
    "import pandas as pd\n",
    "import mysql.connector"
   ]
  },
  {
   "cell_type": "code",
   "execution_count": 2,
   "id": "5daf7608-dae8-475a-aa16-d4d90b0d498b",
   "metadata": {},
   "outputs": [],
   "source": [
    "def extract_book_links(doc):\n",
    "    \"\"\" Fetch  url links from page\"\"\"\n",
    "    h3_tags = doc.find_all('h3')\n",
    "    book_links = []\n",
    "    base_url = \"http://books.toscrape.com/catalogue/\"\n",
    "\n",
    "    for tag in h3_tags:\n",
    "        book_links.append(base_url + tag.contents[0]['href'].replace('../../../',''))\n",
    "\n",
    "    return book_links"
   ]
  },
  {
   "cell_type": "code",
   "execution_count": 3,
   "id": "a342dda3-be29-4451-9669-feff4b4a7703",
   "metadata": {},
   "outputs": [],
   "source": [
    "def extract_table_heads(topic_doc):\n",
    "    \"\"\" Extract headers of Product Information for each book \"\"\"\n",
    "    desc_tags = topic_doc.find_all('th')                    \n",
    "    desc = []                                              \n",
    "    for tag in desc_tags:\n",
    "        desc.append(tag.text)\n",
    "        \n",
    "    return desc"
   ]
  },
  {
   "cell_type": "code",
   "execution_count": 4,
   "id": "e76cf81f-f949-4335-b16f-86ca1aa71e77",
   "metadata": {},
   "outputs": [],
   "source": [
    "def extract_table_data(topic_doc):\n",
    "    \"\"\"Extract output(value) of Product Information for each book \"\"\"\n",
    "    tabledata_tags = topic_doc.find_all('td')\n",
    "    tbdata = []                                             \n",
    "    for tag in tabledata_tags:                  \n",
    "        tbdata.append(tag.text)\n",
    "        \n",
    "    return tbdata"
   ]
  },
  {
   "cell_type": "code",
   "execution_count": 5,
   "id": "aa6d3f5e-9dd2-4072-80d3-ea48a397c4fb",
   "metadata": {},
   "outputs": [],
   "source": [
    "def extract_paragraph(topic_doc):\n",
    "    \"\"\" Extract product description for each book \"\"\"\n",
    "    div_tags = topic_doc.find('div',{'class':'content'})\n",
    "    para_tags = div_tags.find_all('p')\n",
    "    \n",
    "    return para_tags[3].text"
   ]
  },
  {
   "cell_type": "code",
   "execution_count": 6,
   "id": "f1f8ce23-cc19-485c-9a38-ead352ac3899",
   "metadata": {},
   "outputs": [],
   "source": [
    "def extract_title_of_books(topic_doc):\n",
    "    \"\"\" Extract title name of the books\"\"\"\n",
    "    tit_tag = topic_doc.find('h1')\n",
    "    return tit_tag.text"
   ]
  },
  {
   "cell_type": "code",
   "execution_count": 7,
   "id": "beffb8d9-d536-478f-8099-147b0a8d98d4",
   "metadata": {},
   "outputs": [],
   "source": [
    "def csv_home_page(book_links):\n",
    "    \"\"\"Create dataframe containing all the above information for each book \"\"\"\n",
    "    list3 = []\n",
    "    list1 = []\n",
    "    list2 = []\n",
    "    for i in book_links:                                        \n",
    "        response = requests.get(i)\n",
    "        topic_doc = BeautifulSoup(response.text, 'html.parser')                                           \n",
    "        table = dict(zip( extract_table_heads(topic_doc), extract_table_data(topic_doc)))\n",
    "        list3.append(table)   \n",
    "        list1.append(extract_paragraph(topic_doc))\n",
    "        list2.append(extract_title_of_books(topic_doc))\n",
    "    df = pd.DataFrame(list3)\n",
    "    df.pop('Product Type')\n",
    "    df1 = pd.DataFrame(list1,columns =['Description'])\n",
    "    df2 = pd.DataFrame(list2,columns =['Title'])\n",
    "    final = pd.concat([df2,df1,df],axis=1)\n",
    "    csv_data = final.to_csv('csv_data_downloaded.csv', index=False) \n",
    "    return final"
   ]
  },
  {
   "cell_type": "code",
   "execution_count": 8,
   "id": "b143a668-2da6-46e0-a92b-796b6cc56fdb",
   "metadata": {},
   "outputs": [],
   "source": [
    "def get_topics_page(topics_url):\n",
    "    \"\"\"Fetch inspect elements for each url \"\"\"\n",
    "    response = requests.get(topics_url)\n",
    "    page_contents = response.text\n",
    "    doc = BeautifulSoup(page_contents, 'html.parser')\n",
    "    return doc"
   ]
  },
  {
   "cell_type": "code",
   "execution_count": 9,
   "id": "4c6ef91c-5e69-4598-9cdd-2ebc72509f30",
   "metadata": {},
   "outputs": [],
   "source": [
    "topics_urls = ['http://books.toscrape.com/catalogue/category/books/poetry_23/index.html',\n",
    "              'http://books.toscrape.com/catalogue/category/books/science_22/index.html']\n",
    "\n",
    "doc = get_topics_page(topics_urls[0])\n",
    "df=csv_home_page(extract_book_links(doc))\n",
    "\n",
    "doc1 = get_topics_page(topics_urls[1])\n",
    "df1=csv_home_page(extract_book_links(doc1))\n",
    "\n",
    "df=df.append(df1, ignore_index = True)\n",
    "csv_data = df.to_csv('books_data.csv', index=False)"
   ]
  },
  {
   "cell_type": "code",
   "execution_count": 10,
   "id": "3b5b248f-4d89-4f71-b03f-d123a076c083",
   "metadata": {},
   "outputs": [],
   "source": [
    "df = df.rename(columns={'Price (excl. tax)': 'Price_excl_tax', 'Price (incl. tax)': 'Price_incl_tax','Tax':'Tax','Number of reviews':'No_of_Reviews'})  \n"
   ]
  },
  {
   "cell_type": "code",
   "execution_count": 11,
   "id": "7397db76-ef30-4a03-8b35-87fe99902762",
   "metadata": {},
   "outputs": [],
   "source": [
    "df[df.columns[3:6]] = df[df.columns[3:6]].replace(' ', '', regex=True)\n",
    "df[df.columns[3:6]] = df[df.columns[3:6]].replace('[\\Â£]', '', regex=True).astype(float)\n",
    "df[df.columns[7]]=df[df.columns[7]].astype(int)"
   ]
  },
  {
   "cell_type": "code",
   "execution_count": 12,
   "id": "da10e36f-3bcd-4d86-b445-11ac8d7aa6ad",
   "metadata": {},
   "outputs": [
    {
     "name": "stdout",
     "output_type": "stream",
     "text": [
      "Connected to MySQL Server version  8.0.27\n",
      "You're connected to database:  ('mybooks',)\n",
      "Creating table....\n",
      "book table is created....\n",
      "Done\n"
     ]
    }
   ],
   "source": [
    "import mysql.connector\n",
    "try:\n",
    "    with open(\"secrets.txt\") as f:\n",
    "        lines = f.readlines()\n",
    "        username = lines[0].strip()\n",
    "        password = lines[1].strip()\n",
    "        database = lines[2].strip()\n",
    "    # print(username,password,database)\n",
    "    connection = mysql.connector.connect(host='localhost',\n",
    "                                             database=database,\n",
    "                                             user=username,\n",
    "                                             password=password)\n",
    "\n",
    "    if connection.is_connected():\n",
    "        db_Info = connection.get_server_info()\n",
    "        print(\"Connected to MySQL Server version \", db_Info)\n",
    "        cursor = connection.cursor()\n",
    "        cursor.execute(\"select database();\")\n",
    "        record = cursor.fetchone()\n",
    "        print(\"You're connected to database: \", record)\n",
    "        cursor.execute('DROP TABLE IF EXISTS book;')\n",
    "        print('Creating table....')\n",
    "        cursor.execute(\"CREATE TABLE book (Title VARCHAR(200) \\\n",
    "                        , Description TEXT  ,\\\n",
    "                        UPC VARCHAR(100) , Price_excl_tax FLOAT(8,2),Price_incl_tax FLOAT(8,2), Tax FLOAT(5,2), Availability VARCHAR(200), No_of_Reviews INT \\\n",
    "                        )\")\n",
    "        print(\"book table is created....\")\n",
    "\n",
    "        for index, row in df.iterrows():\n",
    "            #print(df)\n",
    "            insert_stmt = (\n",
    "                          \"INSERT INTO book(Title, Description, UPC, Price_excl_tax, Price_incl_tax, Tax, Availability, No_of_Reviews) \"\n",
    "                          \"VALUES (%s, %s, %s, %s, %s, %s, %s, %s)\"\n",
    "                            )\n",
    "            data = (row.Title, row.Description, row.UPC, row.Price_excl_tax, row.Price_incl_tax, row.Tax, row.Availability, row.No_of_Reviews)\n",
    "            cursor.execute(insert_stmt, data)\n",
    "\n",
    "            #cursor.execute('INSERT INTO book(Title, \\\n",
    "            #      Description, UPC, Price_excl_tax, Price_incl_tax, Tax, Availability, No_of_Reviews) \\\n",
    "            #      VALUES(%s, %s, %s, %s, %s, %s, %s, %s)', \n",
    "            #      row)\n",
    "        #close the connection to the database.\n",
    "        connection.commit()\n",
    "        cursor.close()\n",
    "        print(\"Done\")\n",
    "except Error as e:\n",
    "    print(\"Error while connecting to MySQL\", e)"
   ]
  },
  {
   "cell_type": "code",
   "execution_count": null,
   "id": "1bf2a19b-f09c-4cf9-b2a7-fd869e748613",
   "metadata": {},
   "outputs": [],
   "source": []
  }
 ],
 "metadata": {
  "kernelspec": {
   "display_name": "Python 3 (ipykernel)",
   "language": "python",
   "name": "python3"
  },
  "language_info": {
   "codemirror_mode": {
    "name": "ipython",
    "version": 3
   },
   "file_extension": ".py",
   "mimetype": "text/x-python",
   "name": "python",
   "nbconvert_exporter": "python",
   "pygments_lexer": "ipython3",
   "version": "3.9.7"
  }
 },
 "nbformat": 4,
 "nbformat_minor": 5
}
